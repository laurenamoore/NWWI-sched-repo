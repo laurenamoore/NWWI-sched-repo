{
 "cells": [
  {
   "cell_type": "markdown",
   "metadata": {},
   "source": [
    "## Overview:\n",
    "Based on GroupSize LaTeX documentation, where we've simplified a lot of notation stuff. Trying to get organized and match notations in documentation."
   ]
  },
  {
   "cell_type": "code",
   "execution_count": 1,
   "metadata": {},
   "outputs": [],
   "source": [
    "import numpy as np\n",
    "import pandas as pd\n",
    "from pandas import *\n",
    "import sys\n",
    "from collections import defaultdict\n",
    "import xlrd\n",
    "import gurobipy as gp\n",
    "from gurobipy import GRB\n",
    "from gurobipy import *\n",
    "import csv\n",
    "import math\n",
    "from datetime import datetime"
   ]
  },
  {
   "cell_type": "code",
   "execution_count": 12,
   "metadata": {},
   "outputs": [],
   "source": [
    "# Indices\n",
    "iset = range(0,41)\n",
    "jset = {30,60,90,120,180,240,300,360}\n",
    "demands = {30:2,60:7,90:6,120:8,180:7,240:5,300:2,360:3}\n",
    "M = 100000\n",
    "kset = range(1,19)\n",
    "rset = range(1,7)\n",
    "gset = [1,2,3,4,5,6]\n",
    "\n",
    "e = {}\n",
    "for r in rset:\n",
    "    e[r] = []\n",
    "e[1] = [0,1,16,17,34,35,36,37,38,39,40]\n",
    "e[2] = [0,1,2,3,18,19,36,37,38,39,40]\n",
    "e[3] = [0,1,2,3,4,5,20,21,38,39,40]\n",
    "e[4] = [0,1,2,3,4,5,20,21,38,39,40]\n",
    "e[5] = [0,1,2,3,4,5,6,7,22,23,40]\n",
    "e[6] = [0,1,2,3,4,5,6,7,22,23,40]\n",
    "\n",
    "n={}\n",
    "for i in iset:\n",
    "    for g in gset:\n",
    "        n[i] = {g:0}\n",
    "\n",
    "for i in iset:\n",
    "    for g in gset:\n",
    "        if i in e[g]:\n",
    "            n[i][g] = 0\n",
    "        else:\n",
    "            n[i][g] = 1\n",
    "            \n",
    "f = {}\n",
    "for r in rset:\n",
    "    f[r]=[]\n",
    "f[1] = [1,2,3]\n",
    "f[2] = [4,5,6]\n",
    "f[3] = [7,8,9]\n",
    "f[4] = [10,11,12]\n",
    "f[5] = [13,14,15]\n",
    "f[6] = [16,17,18]"
   ]
  },
  {
   "cell_type": "code",
   "execution_count": 13,
   "metadata": {
    "scrolled": true
   },
   "outputs": [
    {
     "name": "stdout",
     "output_type": "stream",
     "text": [
      "Academic license - for non-commercial use only - expires 2023-09-13\n",
      "Using license file C:\\Users\\lmdan\\gurobi.lic\n",
      "Gurobi Optimizer version 9.1.2 build v9.1.2rc0 (win64)\n",
      "Thread count: 4 physical cores, 8 logical processors, using up to 8 threads\n",
      "Optimize a model with 10377 rows, 12513 columns and 118910 nonzeros\n",
      "Model fingerprint: 0x5ae0bb69\n",
      "Variable types: 0 continuous, 12513 integer (7872 binary)\n",
      "Coefficient statistics:\n",
      "  Matrix range     [1e+00, 6e+00]\n",
      "  Objective range  [1e+00, 2e+01]\n",
      "  Bounds range     [1e+00, 1e+00]\n",
      "  RHS range        [1e+00, 2e+01]\n",
      "Found heuristic solution: objective 408.0000000\n",
      "Presolve removed 9503 rows and 10289 columns\n",
      "Presolve time: 0.84s\n",
      "Presolved: 874 rows, 2224 columns, 32328 nonzeros\n",
      "Variable types: 0 continuous, 2224 integer (1784 binary)\n",
      "\n",
      "Root relaxation: objective 4.933333e+01, 2649 iterations, 0.57 seconds\n",
      "\n",
      "    Nodes    |    Current Node    |     Objective Bounds      |     Work\n",
      " Expl Unexpl |  Obj  Depth IntInf | Incumbent    BestBd   Gap | It/Node Time\n",
      "\n",
      "     0     0   49.33333    0  128  408.00000   49.33333  87.9%     -    2s\n",
      "H    0     0                      55.0000000   49.33333  10.3%     -    2s\n",
      "H    0     0                      52.0000000   49.33333  5.13%     -    2s\n",
      "     0     0   49.33333    0  141   52.00000   49.33333  5.13%     -    2s\n",
      "H    0     0                      50.0000000   49.33333  1.33%     -    2s\n",
      "     0     0   49.33333    0  141   50.00000   49.33333  1.33%     -    2s\n",
      "\n",
      "Cutting planes:\n",
      "  Zero half: 2\n",
      "\n",
      "Explored 1 nodes (4797 simplex iterations) in 2.97 seconds\n",
      "Thread count was 8 (of 8 available processors)\n",
      "\n",
      "Solution count 4: 50 52 55 408 \n",
      "\n",
      "Optimal solution found (tolerance 1.00e-04)\n",
      "Best objective 5.000000000000e+01, best bound 5.000000000000e+01, gap 0.0000%\n",
      "['violation A[3]1.0', 'violation pharmacy[7]1.0', 'violation pharmacy[8]1.0', 'violation pharmacy[9]1.0', 'violation D[3,1]1.0', 'violation D[5,2]1.0', 'violation D[7,3]1.0', 'violation D[7,4]1.0', 'violation D[9,5]1.0', 'violation D[9,6]1.0', 'violation S[240]1.0', 'violation S[120]1.0', 'violation S[60]4.0']\n"
     ]
    }
   ],
   "source": [
    "t1 = datetime.now()\n",
    "env = gp.Env(empty=True)\n",
    "#env.setParam(\"OutputFlag\",0)\n",
    "env.start()\n",
    "m = Model(name=\"Scheduling -- Group Size 1\",env=env,)\n",
    "adict = demands\n",
    "\n",
    "# Decision Variables\n",
    "t = m.addVars(iset, jset, vtype=GRB.INTEGER, name=\"t\")\n",
    "c = m.addVars(iset, jset, kset, vtype=GRB.BINARY, name=\"c\")   # c=1 if appointment of length j starts at time i in chair k\n",
    "u = m.addVars(iset, jset, kset, vtype=GRB.INTEGER, name=\"u\")  # number of nurses actively needed at chair k at time i for j length appointments\n",
    "b = m.addVars(iset, jset, kset, vtype=GRB.BINARY, name=\"b\")   # b=1 if there is an appointment of length j scheduled in chair k at time i\n",
    "\n",
    "# Violation Variables\n",
    "vA = m.addVars(iset, vtype=GRB.INTEGER, name=\"violation A\")\n",
    "vB = m.addVars(iset, vtype=GRB.INTEGER, name=\"violation B\")\n",
    "vP = m.addVars(iset, vtype=GRB.INTEGER, name=\"violation pharmacy\")\n",
    "vD = m.addVars(iset, gset, vtype=GRB.INTEGER, name=\"violation D\")            # violation if more than one nurse required\n",
    "vS = m.addVars(jset, vtype=GRB.INTEGER, name=\"violation S\")      # violation if an appointment is not scheduled\n",
    "\n",
    "# Cannot schedule appointments that go past 5:00 PM (strict)\n",
    "c2 = m.addConstrs(c[i,j,k] ==0 for j in jset for i in iset if i>(39-int(j/15)) for k in kset)\n",
    "\n",
    "# Cannot schedule appointments before 7:30 AM (strict)\n",
    "c3 = m.addConstr(gp.quicksum(c[0,j,k]+c[1,j,k] for j in jset for k in kset) ==0)\n",
    "\n",
    "# Pharmacy can do 3 drugs per 30 minutes (add in violation)\n",
    "c4a = m.addConstrs(gp.quicksum(c[i,j,k]+c[i-1,j,k] for j in jset for k in kset) - vP[i] <= 3 for i in iset if i>=1)\n",
    "c4b = m.addConstrs(gp.quicksum(c[i,j,k] for j in jset for k in kset) - vP[i] <= 3 for i in iset if i==0)\n",
    "\n",
    "# Cumulative number of patients in system\n",
    "c5a = m.addConstrs(t[i,j] == gp.quicksum(c[i-x,j,k] for k in kset for x in range(0,i+1)) for i in iset for j in jset if i+1 < int(j/15))\n",
    "c5b = m.addConstrs(t[i,j] == gp.quicksum(c[i-x,j,k] for k in kset for x in range(0,int(j/15))) for i in iset for j in jset if i+1 >= int(j/15))\n",
    "\n",
    "# Times when nurses are actively required at chairs\n",
    "c6 = m.addConstrs(u[0,j,k] == 0 for j in jset for k in kset)\n",
    "c7 = m.addConstrs(u[i,j,k] == c[i,j,k]+c[i-1,j,k] for j in jset for i in iset if i<math.floor(29*j/450) if i>0 for k in kset)\n",
    "c8a = m.addConstrs(u[i,j,k] == c[i,j,k]+c[i-1,j,k]+c[i-math.floor(29*j/450),j,k] for j in jset if j != 30 for i in iset if i>=math.floor(29*j/450) if i>0 for k in kset)\n",
    "c8b = m.addConstrs(u[i,j,k] == c[i,j,k]+c[i-1,j,k] for j in jset if j == 30 for i in iset if i>=math.floor(29*j/450) if i>0 for k in kset)\n",
    "\n",
    "# Nurse busy times (when they cannot be actively required)\n",
    "c9 = m.addConstrs(gp.quicksum(u[i,j,k] for j in jset for k in f[r]) == 0 for r in rset for i in e[r])\n",
    "\n",
    "# Violation D: No more than one nurse required at a chair at a time\n",
    "c10 = m.addConstrs(gp.quicksum(u[i,j,k] for j in jset for k in f[g])-vD[i,g] <= n[i][g] for i in iset for g in gset)\n",
    "\n",
    "# Violation S: Meet demands\n",
    "c11 = m.addConstrs(gp.quicksum(c[i,j,k] for i in iset for k in kset)+vS[j] == adict[j] for j in jset)\n",
    "\n",
    "# Total number of appointments at any time cannot exceed number of chairs\n",
    "c12 = m.addConstrs(gp.quicksum(t[i,j] for j in jset) <= len(kset) for i in iset)\n",
    "\n",
    "# Violation A\n",
    "c13 = m.addConstrs(gp.quicksum(u[i,j,k] for j in jset for k in kset) - gp.quicksum(n[i][g] for g in gset) <= vA[i] for i in iset)\n",
    "\n",
    "# Violation B\n",
    "c14 = m.addConstrs(gp.quicksum(t[i,j] for j in jset) <= gp.quicksum(n[i][g] for g in gset)*(3+vB[i]) for i in iset)\n",
    "\n",
    "# Busy times of chairs\n",
    "c15 = m.addConstrs(b[0,j,k] == 0 for j in jset for k in kset)\n",
    "c16 = m.addConstrs(b[i,j,k] == gp.quicksum(c[i-m,j,k] for m in range(0,i+1)) for j in jset for i in iset if i<math.floor(29*j/450) if i>0 for k in kset)\n",
    "c17 = m.addConstrs(b[i,j,k] == gp.quicksum(c[i-m,j,k] for m in range(0,int(j/15))) for j in jset for i in iset if i>=math.floor(29*j/450) if i>0 for k in kset)\n",
    "\n",
    "# Maximum of one appointment may occur at a time at each chair\n",
    "c18 = m.addConstrs(gp.quicksum(b[i,j,k] for j in jset) <= 1 for i in iset for k in kset)\n",
    "\n",
    "# Objective: minimize all violations\n",
    "obj1 = gp.quicksum(vA[i]+vB[i] for i in iset)\n",
    "obj2 = gp.quicksum(vP[i] for i in iset)\n",
    "obj3 = gp.quicksum(vD[i,g] for i in iset for g in gset)\n",
    "obj4 = gp.quicksum(vS[j]*int(j/15) for j in jset)\n",
    "obj = obj1 + obj2 + obj3 + obj4\n",
    "m.setObjective(obj, GRB.MINIMIZE)\n",
    "\n",
    "m.optimize()\n",
    "t2 = datetime.now()\n",
    "\n",
    "runtime = t2 - t1\n",
    "\n",
    "var_names_violations = []\n",
    "for var in m.getVars():\n",
    "    if var.varName[0] == \"v\":\n",
    "        if var.X != 0:\n",
    "            var_names_violations.append(str(var.varName)+str(var.X))\n",
    "\n",
    "var_names = []\n",
    "for var in m.getVars():\n",
    "    if var.X != 0:\n",
    "        var_names.append(str(var.varName)+str(var.X))\n",
    "        \n",
    "var_names_start = []\n",
    "for var in m.getVars():\n",
    "    if var.varName[0] == \"c\":\n",
    "        if var.X != 0:\n",
    "            var_names_start.append(str(var.varName)+str(var.X))\n",
    "            \n",
    "print(var_names_violations)"
   ]
  },
  {
   "cell_type": "code",
   "execution_count": 15,
   "metadata": {},
   "outputs": [
    {
     "data": {
      "text/plain": [
       "datetime.timedelta(seconds=3, microseconds=265653)"
      ]
     },
     "execution_count": 15,
     "metadata": {},
     "output_type": "execute_result"
    }
   ],
   "source": [
    "runtime"
   ]
  },
  {
   "cell_type": "code",
   "execution_count": 16,
   "metadata": {
    "scrolled": true
   },
   "outputs": [
    {
     "data": {
      "text/plain": [
       "[]"
      ]
     },
     "execution_count": 16,
     "metadata": {},
     "output_type": "execute_result"
    }
   ],
   "source": [
    "var_names_violations"
   ]
  },
  {
   "cell_type": "code",
   "execution_count": 39,
   "metadata": {},
   "outputs": [
    {
     "data": {
      "text/plain": [
       "['c[2,300,3]1.0',\n",
       " 'c[4,300,5]1.0',\n",
       " 'c[4,240,1]1.0',\n",
       " 'c[6,180,6]1.0',\n",
       " 'c[6,180,11]1.0',\n",
       " 'c[7,240,8]1.0',\n",
       " 'c[8,360,18]1.0',\n",
       " 'c[8,120,4]1.0',\n",
       " 'c[9,120,14]1.0',\n",
       " 'c[10,120,7]1.0',\n",
       " 'c[10,90,10]1.0',\n",
       " 'c[11,60,16]1.0',\n",
       " 'c[12,360,12]1.0',\n",
       " 'c[12,360,13]1.0',\n",
       " 'c[13,60,9]1.0',\n",
       " 'c[14,240,2]1.0',\n",
       " 'c[14,180,15]1.0',\n",
       " 'c[16,90,17]1.0',\n",
       " 'c[17,180,14]1.0',\n",
       " 'c[18,30,11]1.0',\n",
       " 'c[19,240,16]1.0',\n",
       " 'c[21,180,6]1.0',\n",
       " 'c[22,240,11]1.0',\n",
       " 'c[22,180,1]1.0',\n",
       " 'c[23,120,7]1.0',\n",
       " 'c[24,90,4]1.0',\n",
       " 'c[25,180,9]1.0',\n",
       " 'c[25,120,3]1.0',\n",
       " 'c[26,60,15]1.0',\n",
       " 'c[27,120,5]1.0',\n",
       " 'c[27,60,10]1.0',\n",
       " 'c[28,90,8]1.0',\n",
       " 'c[29,120,17]1.0',\n",
       " 'c[30,90,4]1.0',\n",
       " 'c[31,120,15]1.0',\n",
       " 'c[31,90,10]1.0',\n",
       " 'c[32,60,18]1.0',\n",
       " 'c[33,60,14]1.0',\n",
       " 'c[34,60,8]1.0',\n",
       " 'c[37,30,16]1.0']"
      ]
     },
     "execution_count": 39,
     "metadata": {},
     "output_type": "execute_result"
    }
   ],
   "source": [
    "var_names_start"
   ]
  },
  {
   "cell_type": "code",
   "execution_count": 11,
   "metadata": {},
   "outputs": [],
   "source": [
    "# Write to csv\n",
    "with open('gs1_2.csv', 'w') as myfile:\n",
    "   wr = csv.writer(myfile, quoting=csv.QUOTE_ALL,lineterminator='\\n')\n",
    "   wr.writerows(zip(var_names_start))"
   ]
  },
  {
   "cell_type": "code",
   "execution_count": null,
   "metadata": {},
   "outputs": [],
   "source": [
    "chairlist = []\n",
    "for time in v.keys():\n",
    "    for chair,j in v[time].items():\n",
    "        if j != 0:\n",
    "            chairlist.append([time,chair,j])"
   ]
  },
  {
   "cell_type": "code",
   "execution_count": null,
   "metadata": {},
   "outputs": [],
   "source": [
    "with open(\"chairout_3_8.csv\",\"w\",newline=\"\") as f:\n",
    "    writer = csv.writer(f)\n",
    "    writer.writerows(chairlist)"
   ]
  },
  {
   "cell_type": "code",
   "execution_count": null,
   "metadata": {},
   "outputs": [],
   "source": []
  }
 ],
 "metadata": {
  "kernelspec": {
   "display_name": "Python 3",
   "language": "python",
   "name": "python3"
  },
  "language_info": {
   "codemirror_mode": {
    "name": "ipython",
    "version": 3
   },
   "file_extension": ".py",
   "mimetype": "text/x-python",
   "name": "python",
   "nbconvert_exporter": "python",
   "pygments_lexer": "ipython3",
   "version": "3.8.5"
  }
 },
 "nbformat": 4,
 "nbformat_minor": 4
}
