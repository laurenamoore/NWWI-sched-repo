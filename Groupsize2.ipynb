{
 "cells": [
  {
   "cell_type": "markdown",
   "metadata": {},
   "source": [
    "## Overview:\n",
    "Group size 2"
   ]
  },
  {
   "cell_type": "code",
   "execution_count": 1,
   "metadata": {},
   "outputs": [],
   "source": [
    "import numpy as np\n",
    "import pandas as pd\n",
    "from pandas import *\n",
    "import sys\n",
    "from collections import defaultdict\n",
    "import xlrd\n",
    "import gurobipy as gp\n",
    "from gurobipy import GRB\n",
    "from gurobipy import *\n",
    "import csv\n",
    "import math\n",
    "from datetime import datetime"
   ]
  },
  {
   "cell_type": "code",
   "execution_count": 14,
   "metadata": {},
   "outputs": [],
   "source": [
    "# Indices\n",
    "iset = range(0,41)\n",
    "jset = {30,60,90,120,180,240,300,360}\n",
    "demands = {30:2,60:7,90:6,120:8,180:7,240:5,300:2,360:3}\n",
    "M = 100000\n",
    "kset = range(1,19)\n",
    "rset = range(1,7)\n",
    "gset = [1,2,3]\n",
    "\n",
    "# Groups are [1,2] [3,4] and [5,6]\n",
    "f = {}\n",
    "f[1] = [1,2,3,4,5,6]\n",
    "f[2] = [7,8,9,10,11,12]\n",
    "f[3] = [13,14,15,16,17,18]\n",
    "\n",
    "# Busy times of each nurse\n",
    "e = {}\n",
    "for r in rset:\n",
    "    e[r] = []\n",
    "e[1] = [0,1,16,17,34,35,36,37,38,39,40]\n",
    "e[2] = [0,1,2,3,18,19,36,37,38,39,40]\n",
    "e[3] = [0,1,2,3,4,5,20,21,38,39,40]\n",
    "e[4] = [0,1,2,3,4,5,20,21,38,39,40]\n",
    "e[5] = [0,1,2,3,4,5,6,7,22,23,40]\n",
    "e[6] = [0,1,2,3,4,5,6,7,22,23,40]\n",
    "\n",
    "n={}\n",
    "for i in iset:\n",
    "    for g in gset:\n",
    "        n[i] = {g:0}\n",
    "\n",
    "for i in iset:\n",
    "    for g in gset:\n",
    "        if g == 1:\n",
    "            if i in e[1]:\n",
    "                if i in e[2]:\n",
    "                    n[i][g] = 0\n",
    "                else:\n",
    "                    n[i][g] = 1\n",
    "            elif i in e[2]:\n",
    "                n[i][g] = 1\n",
    "            else:\n",
    "                n[i][g] = 2\n",
    "        elif g == 2:\n",
    "            if i in e[3]:\n",
    "                if i in e[4]:\n",
    "                    n[i][g] = 0\n",
    "                else:\n",
    "                    n[i][g] = 1\n",
    "            elif i in e[4]:\n",
    "                n[i][g] = 1\n",
    "            else:\n",
    "                n[i][g] = 2\n",
    "        elif g == 3:\n",
    "            if i in e[5]:\n",
    "                if i in e[6]:\n",
    "                    n[i][g] = 0\n",
    "                else:\n",
    "                    n[i][g] = 1\n",
    "            elif i in e[6]:\n",
    "                n[i][g] = 1\n",
    "            else:\n",
    "                n[i][g] = 2\n",
    "        else:\n",
    "            print(\"error\")"
   ]
  },
  {
   "cell_type": "code",
   "execution_count": 15,
   "metadata": {
    "scrolled": true
   },
   "outputs": [
    {
     "name": "stdout",
     "output_type": "stream",
     "text": [
      "Academic license - for non-commercial use only - expires 2023-09-13\n",
      "Using license file C:\\Users\\lmdan\\gurobi.lic\n",
      "Gurobi Optimizer version 9.1.2 build v9.1.2rc0 (win64)\n",
      "Thread count: 4 physical cores, 8 logical processors, using up to 8 threads\n",
      "Optimize a model with 10187 rows, 12390 columns and 117538 nonzeros\n",
      "Model fingerprint: 0x9cbcfa38\n",
      "Variable types: 0 continuous, 12390 integer (7872 binary)\n",
      "Coefficient statistics:\n",
      "  Matrix range     [1e+00, 6e+00]\n",
      "  Objective range  [1e+00, 2e+01]\n",
      "  Bounds range     [1e+00, 1e+00]\n",
      "  RHS range        [1e+00, 2e+01]\n",
      "Found heuristic solution: objective 408.0000000\n",
      "Presolve removed 9339 rows and 9459 columns\n",
      "Presolve time: 1.03s\n",
      "Presolved: 848 rows, 2931 columns, 50115 nonzeros\n",
      "Variable types: 0 continuous, 2931 integer (2568 binary)\n",
      "\n",
      "Root relaxation: objective 3.300000e+01, 3136 iterations, 0.77 seconds\n",
      "\n",
      "    Nodes    |    Current Node    |     Objective Bounds      |     Work\n",
      " Expl Unexpl |  Obj  Depth IntInf | Incumbent    BestBd   Gap | It/Node Time\n",
      "\n",
      "*    0     0               0      33.0000000   33.00000  0.00%     -    2s\n",
      "\n",
      "Explored 0 nodes (6502 simplex iterations) in 2.86 seconds\n",
      "Thread count was 8 (of 8 available processors)\n",
      "\n",
      "Solution count 2: 33 408 \n",
      "\n",
      "Optimal solution found (tolerance 1.00e-04)\n",
      "Best objective 3.300000000000e+01, best bound 3.300000000000e+01, gap 0.0000%\n",
      "['violation A[2]1.0', 'violation A[3]2.0', 'violation A[5]1.0', 'violation A[38]3.0', 'violation D[2,3]2.0', 'violation D[3,3]2.0', 'violation D[5,2]1.0', 'violation D[38,1]3.0', 'violation S[60]4.0', 'violation S[30]1.0']\n"
     ]
    }
   ],
   "source": [
    "t1 = datetime.now()\n",
    "env = gp.Env(empty=True)\n",
    "#env.setParam(\"OutputFlag\",0)\n",
    "env.start()\n",
    "m = Model(name=\"Scheduling -- Group Size 2\",env=env,)\n",
    "adict = demands\n",
    "\n",
    "# Decision Variables\n",
    "t = m.addVars(iset, jset, vtype=GRB.INTEGER, name=\"t\")\n",
    "c = m.addVars(iset, jset, kset, vtype=GRB.BINARY, name=\"c\")   # c=1 if appointment of length j starts at time i in chair k\n",
    "u = m.addVars(iset, jset, kset, vtype=GRB.INTEGER, name=\"u\")  # number of nurses actively needed at chair k at time i for j length appointments\n",
    "b = m.addVars(iset, jset, kset, vtype=GRB.BINARY, name=\"b\")   # b=1 if there is an appointment of length j scheduled in chair k at time i\n",
    "\n",
    "# Violation Variables\n",
    "vA = m.addVars(iset, vtype=GRB.INTEGER, name=\"violation A\")\n",
    "vB = m.addVars(iset, vtype=GRB.INTEGER, name=\"violation B\")\n",
    "vP = m.addVars(iset, vtype=GRB.INTEGER, name=\"violation pharmacy\")\n",
    "vD = m.addVars(iset, gset, vtype=GRB.INTEGER, name=\"violation D\")            # violation if more than one nurse required\n",
    "vS = m.addVars(jset, vtype=GRB.INTEGER, name=\"violation S\")      # violation if an appointment is not scheduled\n",
    "\n",
    "# Cannot schedule appointments that go past 5:00 PM (strict)\n",
    "c2 = m.addConstrs(c[i,j,k] ==0 for j in jset for i in iset if i>(39-int(j/15)) for k in kset)\n",
    "\n",
    "# Cannot schedule appointments before 7:30 AM (strict)\n",
    "c3 = m.addConstr(gp.quicksum(c[0,j,k]+c[1,j,k] for j in jset for k in kset) ==0)\n",
    "\n",
    "# Pharmacy can do 3 drugs per 30 minutes (add in violation)\n",
    "c4a = m.addConstrs(gp.quicksum(c[i,j,k]+c[i-1,j,k] for j in jset for k in kset) - vP[i] <= 3 for i in iset if i>1)\n",
    "c4b = m.addConstrs(gp.quicksum(c[i,j,k] for j in jset for k in kset) - vP[i] <= 3 for i in iset if i==0)\n",
    "\n",
    "# Cumulative number of patients in system\n",
    "c5a = m.addConstrs(t[i,j] == gp.quicksum(c[i-x,j,k] for k in kset for x in range(0,i+1)) for i in iset for j in jset if i+1 < int(j/15))\n",
    "c5b = m.addConstrs(t[i,j] == gp.quicksum(c[i-x,j,k] for k in kset for x in range(0,int(j/15))) for i in iset for j in jset if i+1 >= int(j/15))\n",
    "\n",
    "# Times when nurses are actively required at chairs\n",
    "c6 = m.addConstrs(u[0,j,k] == 0 for j in jset for k in kset)\n",
    "c7 = m.addConstrs(u[i,j,k] == c[i,j,k]+c[i-1,j,k] for j in jset for i in iset if i<math.floor(29*j/450) if i>0 for k in kset)\n",
    "c8a = m.addConstrs(u[i,j,k] == c[i,j,k]+c[i-1,j,k]+c[i-math.floor(29*j/450),j,k] for j in jset if j != 30 for i in iset if i>=math.floor(29*j/450) if i>0 for k in kset)\n",
    "c8b = m.addConstrs(u[i,j,k] == c[i,j,k]+c[i-1,j,k] for j in jset if j == 30 for i in iset if i>=math.floor(29*j/450) if i>0 for k in kset)\n",
    "\n",
    "# Nurse busy times (when they cannot be actively required)\n",
    "# Let g[r][i] be the number of nurses available in nurse r's group at time i\n",
    "c9 = m.addConstrs(gp.quicksum(u[i,j,k] for j in jset for k in f[g])-vD[i,g] <= n[i][g] for g in gset for i in iset)\n",
    "\n",
    "# Violation S: Meet demands\n",
    "c11 = m.addConstrs(gp.quicksum(c[i,j,k] for i in iset for k in kset)+vS[j] == adict[j] for j in jset)\n",
    "\n",
    "# Total number of appointments at any time cannot exceed number of chairs\n",
    "c12 = m.addConstrs(gp.quicksum(t[i,j] for j in jset) <= len(kset) for i in iset)\n",
    "\n",
    "# Violation A\n",
    "c13 = m.addConstrs(gp.quicksum(u[i,j,k] for j in jset for k in kset) - gp.quicksum(n[i][g] for g in gset) <= vA[i] for i in iset)\n",
    "\n",
    "# Violation B\n",
    "c14 = m.addConstrs(gp.quicksum(t[i,j] for j in jset) <= gp.quicksum(n[i][g] for g in gset)*(3+vB[i]) for i in iset)\n",
    "\n",
    "# Busy times of chairs\n",
    "c15 = m.addConstrs(b[0,j,k] == 0 for j in jset for k in kset)\n",
    "c16 = m.addConstrs(b[i,j,k] == gp.quicksum(c[i-m,j,k] for m in range(0,i+1)) for j in jset for i in iset if i<math.floor(29*j/450) if i>0 for k in kset)\n",
    "c17 = m.addConstrs(b[i,j,k] == gp.quicksum(c[i-m,j,k] for m in range(0,int(j/15))) for j in jset for i in iset if i>=math.floor(29*j/450) if i>0 for k in kset)\n",
    "\n",
    "# Maximum of one appointment may occur at a time at each chair\n",
    "c18 = m.addConstrs(gp.quicksum(b[i,j,k] for j in jset) <= 1 for i in iset for k in kset)\n",
    "\n",
    "# Objective: minimize all violations\n",
    "obj1 = gp.quicksum(vA[i]+vB[i] for i in iset)\n",
    "obj2 = gp.quicksum(vP[i] for i in iset)\n",
    "obj3 = gp.quicksum(vD[i,g] for i in iset for g in gset)\n",
    "obj4 = gp.quicksum(vS[j]*int(j/15) for j in jset)\n",
    "obj = obj1 + obj2 + obj3 + obj4\n",
    "m.setObjective(obj, GRB.MINIMIZE)\n",
    "\n",
    "m.optimize()\n",
    "t2 = datetime.now()\n",
    "\n",
    "runtime = t2 - t1\n",
    "\n",
    "var_names_violations = []\n",
    "for var in m.getVars():\n",
    "    if var.varName[0] == \"v\":\n",
    "        if var.X != 0:\n",
    "            var_names_violations.append(str(var.varName)+str(var.X))\n",
    "\n",
    "var_names = []\n",
    "for var in m.getVars():\n",
    "    if var.X != 0:\n",
    "        var_names.append(str(var.varName)+str(var.X))\n",
    "        \n",
    "var_names_start = []\n",
    "for var in m.getVars():\n",
    "    if var.varName[0] == \"c\":\n",
    "        if var.X != 0:\n",
    "            var_names_start.append(str(var.varName)+str(var.X))\n",
    "            \n",
    "print(var_names_violations)"
   ]
  },
  {
   "cell_type": "code",
   "execution_count": 9,
   "metadata": {},
   "outputs": [
    {
     "data": {
      "text/plain": [
       "datetime.timedelta(seconds=1, microseconds=368964)"
      ]
     },
     "execution_count": 9,
     "metadata": {},
     "output_type": "execute_result"
    }
   ],
   "source": [
    "runtime"
   ]
  },
  {
   "cell_type": "code",
   "execution_count": 16,
   "metadata": {
    "scrolled": true
   },
   "outputs": [
    {
     "data": {
      "text/plain": [
       "[]"
      ]
     },
     "execution_count": 16,
     "metadata": {},
     "output_type": "execute_result"
    }
   ],
   "source": [
    "var_names_violations"
   ]
  },
  {
   "cell_type": "code",
   "execution_count": 19,
   "metadata": {},
   "outputs": [
    {
     "data": {
      "text/plain": [
       "['c[2,360,6]1.0',\n",
       " 'c[4,120,1]1.0',\n",
       " 'c[5,300,4]1.0',\n",
       " 'c[6,180,5]1.0',\n",
       " 'c[6,120,12]1.0',\n",
       " 'c[7,240,10]1.0',\n",
       " 'c[8,240,11]1.0',\n",
       " 'c[8,120,3]1.0',\n",
       " 'c[9,60,13]1.0',\n",
       " 'c[10,240,15]1.0',\n",
       " 'c[10,180,2]1.0',\n",
       " 'c[11,360,7]1.0',\n",
       " 'c[12,240,18]1.0',\n",
       " 'c[12,180,9]1.0',\n",
       " 'c[13,60,1]1.0',\n",
       " 'c[15,360,17]1.0',\n",
       " 'c[15,60,13]1.0',\n",
       " 'c[16,60,8]1.0',\n",
       " 'c[17,120,12]1.0',\n",
       " 'c[18,300,16]1.0',\n",
       " 'c[18,180,3]1.0',\n",
       " 'c[19,240,14]1.0',\n",
       " 'c[21,120,1]1.0',\n",
       " 'c[22,90,2]1.0',\n",
       " 'c[23,180,5]1.0',\n",
       " 'c[24,180,11]1.0',\n",
       " 'c[25,180,12]1.0',\n",
       " 'c[25,120,4]1.0',\n",
       " 'c[26,90,10]1.0',\n",
       " 'c[27,120,9]1.0',\n",
       " 'c[27,90,15]1.0',\n",
       " 'c[28,90,13]1.0',\n",
       " 'c[29,60,18]1.0',\n",
       " 'c[30,120,8]1.0',\n",
       " 'c[30,60,3]1.0',\n",
       " 'c[32,90,10]1.0',\n",
       " 'c[32,60,6]1.0',\n",
       " 'c[33,90,18]1.0',\n",
       " 'c[35,30,9]1.0',\n",
       " 'c[35,30,14]1.0']"
      ]
     },
     "execution_count": 19,
     "metadata": {},
     "output_type": "execute_result"
    }
   ],
   "source": [
    "var_names_start"
   ]
  },
  {
   "cell_type": "code",
   "execution_count": 10,
   "metadata": {},
   "outputs": [],
   "source": [
    "# Write to csv\n",
    "with open('gs2_1.csv', 'w') as myfile:\n",
    "   wr = csv.writer(myfile, quoting=csv.QUOTE_ALL,lineterminator='\\n')\n",
    "   wr.writerows(zip(var_names_start))"
   ]
  },
  {
   "cell_type": "code",
   "execution_count": null,
   "metadata": {},
   "outputs": [],
   "source": [
    "chairlist = []\n",
    "for time in v.keys():\n",
    "    for chair,j in v[time].items():\n",
    "        if j != 0:\n",
    "            chairlist.append([time,chair,j])"
   ]
  },
  {
   "cell_type": "code",
   "execution_count": null,
   "metadata": {},
   "outputs": [],
   "source": [
    "with open(\"chairout_3_8.csv\",\"w\",newline=\"\") as f:\n",
    "    writer = csv.writer(f)\n",
    "    writer.writerows(chairlist)"
   ]
  }
 ],
 "metadata": {
  "kernelspec": {
   "display_name": "Python 3 (ipykernel)",
   "language": "python",
   "name": "python3"
  },
  "language_info": {
   "codemirror_mode": {
    "name": "ipython",
    "version": 3
   },
   "file_extension": ".py",
   "mimetype": "text/x-python",
   "name": "python",
   "nbconvert_exporter": "python",
   "pygments_lexer": "ipython3",
   "version": "3.11.3"
  }
 },
 "nbformat": 4,
 "nbformat_minor": 4
}
